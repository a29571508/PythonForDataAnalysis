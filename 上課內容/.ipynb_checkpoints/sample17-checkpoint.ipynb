{
 "cells": [
  {
   "cell_type": "code",
   "execution_count": 3,
   "metadata": {},
   "outputs": [],
   "source": [
    "text = '''python與中文\n",
    "1. 我們來試試看中文儲存能力。\n",
    "2. 許這個字會有編碼衝突風險。\n",
    "3. 犇這個字必須是utf8編碼才有。'''\n",
    "\n",
    "openFile = open('data.txt','w',encoding='utf-8')\n",
    "openFile.write(text)\n",
    "openFile.close()"
   ]
  },
  {
   "cell_type": "code",
   "execution_count": 6,
   "metadata": {},
   "outputs": [
    {
     "name": "stdout",
     "output_type": "stream",
     "text": [
      "請輸入第1號的成績:(-1結束)89\n",
      "請輸入第2號的成績:(-1結束)78\n",
      "請輸入第3號的成績:(-1結束)90\n",
      "請輸入第4號的成績:(-1結束)67\n",
      "請輸入第5號的成績:(-1結束)78\n",
      "請輸入第6號的成績:(-1結束)-1\n"
     ]
    }
   ],
   "source": [
    "no = 1\n",
    "scores = dict()\n",
    "while True:\n",
    "    score = int(input('請輸入第{:d}號的成績:(-1結束)'.format(no)))\n",
    "    if score == -1:\n",
    "        break;\n",
    "    scores[no] = score\n",
    "    no += 1\n",
    "    \n",
    "str(scores)\n",
    "writeFile = open('score.txt','w')\n",
    "writeFile.write(str(scores))\n",
    "writeFile.close()"
   ]
  },
  {
   "cell_type": "code",
   "execution_count": 8,
   "metadata": {},
   "outputs": [
    {
     "name": "stdout",
     "output_type": "stream",
     "text": [
      "python與中文\n",
      "1. 我們來試試看中文儲存能力。\n",
      "2. 許這個字會有編碼衝突風險。\n",
      "3. 犇這個字必須是utf8編碼才有。\n"
     ]
    }
   ],
   "source": [
    "readFile = open('data.txt',encoding='utf-8')\n",
    "content = readFile.read()\n",
    "print(content)"
   ]
  },
  {
   "cell_type": "code",
   "execution_count": 17,
   "metadata": {},
   "outputs": [
    {
     "data": {
      "text/plain": [
       "[['a', 'b', 'c', 'd', 'message'],\n",
       " ['1', '2', '3', '4', 'hello'],\n",
       " ['5', '6', '7', '8', 'world'],\n",
       " ['9', '10', '11', '12', 'foo']]"
      ]
     },
     "execution_count": 17,
     "metadata": {},
     "output_type": "execute_result"
    }
   ],
   "source": [
    "import csv\n",
    "readFile = open('ex1.csv')\n",
    "readFile.readline()\n",
    "\n",
    "rows = csv.reader(readFile)\n",
    "rowsList = list(rows)\n",
    "rowsList\n",
    "readFile.close()"
   ]
  },
  {
   "cell_type": "code",
   "execution_count": null,
   "metadata": {},
   "outputs": [],
   "source": []
  }
 ],
 "metadata": {
  "kernelspec": {
   "display_name": "Python 3",
   "language": "python",
   "name": "python3"
  },
  "language_info": {
   "codemirror_mode": {
    "name": "ipython",
    "version": 3
   },
   "file_extension": ".py",
   "mimetype": "text/x-python",
   "name": "python",
   "nbconvert_exporter": "python",
   "pygments_lexer": "ipython3",
   "version": "3.7.4"
  }
 },
 "nbformat": 4,
 "nbformat_minor": 2
}
