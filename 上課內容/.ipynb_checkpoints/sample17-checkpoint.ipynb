{
 "cells": [
  {
   "cell_type": "code",
   "execution_count": 3,
   "metadata": {},
   "outputs": [],
   "source": [
    "text = '''python與中文\n",
    "1. 我們來試試看中文儲存能力。\n",
    "2. 許這個字會有編碼衝突風險。\n",
    "3. 犇這個字必須是utf8編碼才有。'''\n",
    "\n",
    "openFile = open('data.txt','w',encoding='utf-8')\n",
    "openFile.write(text)\n",
    "openFile.close()"
   ]
  },
  {
   "cell_type": "code",
   "execution_count": 6,
   "metadata": {},
   "outputs": [
    {
     "name": "stdout",
     "output_type": "stream",
     "text": [
      "請輸入第1號的成績:(-1結束)89\n",
      "請輸入第2號的成績:(-1結束)78\n",
      "請輸入第3號的成績:(-1結束)90\n",
      "請輸入第4號的成績:(-1結束)67\n",
      "請輸入第5號的成績:(-1結束)78\n",
      "請輸入第6號的成績:(-1結束)-1\n"
     ]
    }
   ],
   "source": [
    "no = 1\n",
    "scores = dict()\n",
    "while True:\n",
    "    score = int(input('請輸入第{:d}號的成績:(-1結束)'.format(no)))\n",
    "    if score == -1:\n",
    "        break;\n",
    "    scores[no] = score\n",
    "    no += 1\n",
    "    \n",
    "str(scores)\n",
    "writeFile = open('score.txt','w')\n",
    "writeFile.write(str(scores))\n",
    "writeFile.close()"
   ]
  },
  {
   "cell_type": "code",
   "execution_count": 8,
   "metadata": {},
   "outputs": [
    {
     "name": "stdout",
     "output_type": "stream",
     "text": [
      "python與中文\n",
      "1. 我們來試試看中文儲存能力。\n",
      "2. 許這個字會有編碼衝突風險。\n",
      "3. 犇這個字必須是utf8編碼才有。\n"
     ]
    }
   ],
   "source": [
    "readFile = open('data.txt',encoding='utf-8')\n",
    "content = readFile.read()\n",
    "print(content)"
   ]
  },
  {
   "cell_type": "code",
   "execution_count": 19,
   "metadata": {},
   "outputs": [
    {
     "data": {
      "text/html": [
       "<div>\n",
       "<style scoped>\n",
       "    .dataframe tbody tr th:only-of-type {\n",
       "        vertical-align: middle;\n",
       "    }\n",
       "\n",
       "    .dataframe tbody tr th {\n",
       "        vertical-align: top;\n",
       "    }\n",
       "\n",
       "    .dataframe thead th {\n",
       "        text-align: right;\n",
       "    }\n",
       "</style>\n",
       "<table border=\"1\" class=\"dataframe\">\n",
       "  <thead>\n",
       "    <tr style=\"text-align: right;\">\n",
       "      <th></th>\n",
       "      <th>0</th>\n",
       "      <th>1</th>\n",
       "      <th>2</th>\n",
       "      <th>3</th>\n",
       "      <th>4</th>\n",
       "    </tr>\n",
       "  </thead>\n",
       "  <tbody>\n",
       "    <tr>\n",
       "      <td>0</td>\n",
       "      <td>1</td>\n",
       "      <td>2</td>\n",
       "      <td>3</td>\n",
       "      <td>4</td>\n",
       "      <td>hello</td>\n",
       "    </tr>\n",
       "    <tr>\n",
       "      <td>1</td>\n",
       "      <td>5</td>\n",
       "      <td>6</td>\n",
       "      <td>7</td>\n",
       "      <td>8</td>\n",
       "      <td>world</td>\n",
       "    </tr>\n",
       "    <tr>\n",
       "      <td>2</td>\n",
       "      <td>9</td>\n",
       "      <td>10</td>\n",
       "      <td>11</td>\n",
       "      <td>12</td>\n",
       "      <td>foo</td>\n",
       "    </tr>\n",
       "  </tbody>\n",
       "</table>\n",
       "</div>"
      ],
      "text/plain": [
       "   0   1   2   3      4\n",
       "0  1   2   3   4  hello\n",
       "1  5   6   7   8  world\n",
       "2  9  10  11  12    foo"
      ]
     },
     "execution_count": 19,
     "metadata": {},
     "output_type": "execute_result"
    }
   ],
   "source": [
    "import csv\n",
    "import pandas as pd\n",
    "\n",
    "readFile = open('ex1.csv')\n",
    "readFile.readline()#先讀一行\n",
    "\n",
    "rows = csv.reader(readFile)\n",
    "rowsList = list(rows)\n",
    "\n",
    "pd.DataFrame(rowsList)"
   ]
  },
  {
   "cell_type": "code",
   "execution_count": 32,
   "metadata": {},
   "outputs": [
    {
     "data": {
      "text/plain": [
       "[['106', '新北市板橋區', '551480', '23.1373', '23835'],\n",
       " ['106', '新北市三重區', '387484', '16.317', '23747'],\n",
       " ['106', '新北市中和區', '413590', '20.144', '20532'],\n",
       " ['106', '新北市永和區', '222585', '5.7138', '38956'],\n",
       " ['106', '新北市新莊區', '416524', '19.7383', '21102'],\n",
       " ['106', '新北市新店區', '302089', '120.2255', '2513'],\n",
       " ['106', '新北市樹林區', '184149', '33.1288', '5559'],\n",
       " ['106', '新北市鶯歌區', '86593', '21.1248', '4099'],\n",
       " ['106', '新北市三峽區', '114926', '191.4508', '600'],\n",
       " ['106', '新北市淡水區', '169597', '70.6565', '2400'],\n",
       " ['106', '新北市汐止區', '199321', '71.2354', '2798'],\n",
       " ['106', '新北市瑞芳區', '40353', '70.7336', '570'],\n",
       " ['106', '新北市土城區', '238067', '29.5578', '8054'],\n",
       " ['106', '新北市蘆洲區', '201309', '7.4351', '27075'],\n",
       " ['106', '新北市五股區', '84919', '34.8632', '2436'],\n",
       " ['106', '新北市泰山區', '78911', '19.1603', '4118'],\n",
       " ['106', '新北市林口區', '106101', '54.1519', '1959'],\n",
       " ['106', '新北市深坑區', '23660', '20.5787', '1150'],\n",
       " ['106', '新北市石碇區', '7683', '144.3498', '53'],\n",
       " ['106', '新北市坪林區', '6528', '170.835', '38'],\n",
       " ['106', '新北市三芝區', '23200', '65.9909', '352'],\n",
       " ['106', '新北市石門區', '12286', '51.2645', '240'],\n",
       " ['106', '新北市八里區', '38493', '39.4933', '975'],\n",
       " ['106', '新北市平溪區', '4719', '71.3382', '66'],\n",
       " ['106', '新北市雙溪區', '8939', '146.2484', '61'],\n",
       " ['106', '新北市貢寮區', '12552', '99.9734', '126'],\n",
       " ['106', '新北市金山區', '22015', '49.2132', '447'],\n",
       " ['106', '新北市萬里區', '22296', '63.3766', '352'],\n",
       " ['106', '新北市烏來區', '6320', '321.1306', '20']]"
      ]
     },
     "execution_count": 32,
     "metadata": {},
     "output_type": "execute_result"
    }
   ],
   "source": [
    "import csv\n",
    "readFile = open('各鄉鎮市區人口密度.csv',encoding='utf-8')\n",
    "readFile.readline()\n",
    "readFile.readline()\n",
    "rows = csv.reader(readFile)\n",
    "poplist = []\n",
    "for row in rows:\n",
    "    if row[0] == '106':\n",
    "         poplist.append(row)    \n",
    "poplist\n",
    "newCities = []\n",
    "for row in poplist:\n",
    "    if '新北市' in row[1]:\n",
    "        newCities.append(row)\n",
    "\n",
    "newCities"
   ]
  },
  {
   "cell_type": "code",
   "execution_count": null,
   "metadata": {},
   "outputs": [],
   "source": [
    "import json\n",
    "\n",
    "with open('新北市公共自行車租賃系統.json', encoding='utf-8') as json_file:\n",
    "    pythonData = json.load(json_file)\n",
    "\n",
    "\n"
   ]
  }
 ],
 "metadata": {
  "kernelspec": {
   "display_name": "Python 3",
   "language": "python",
   "name": "python3"
  },
  "language_info": {
   "codemirror_mode": {
    "name": "ipython",
    "version": 3
   },
   "file_extension": ".py",
   "mimetype": "text/x-python",
   "name": "python",
   "nbconvert_exporter": "python",
   "pygments_lexer": "ipython3",
   "version": "3.7.4"
  }
 },
 "nbformat": 4,
 "nbformat_minor": 2
}
