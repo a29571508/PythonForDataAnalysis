{
 "cells": [
  {
   "cell_type": "code",
   "execution_count": 1,
   "metadata": {},
   "outputs": [],
   "source": [
    "import sqlite3"
   ]
  },
  {
   "cell_type": "code",
   "execution_count": 3,
   "metadata": {},
   "outputs": [],
   "source": [
    "sqlQuery = \"\"\"\n",
    "CREATE TABLE test(a VARCHAR(20), b VARCHAR(20), c REAL, d INTEGER);\n",
    "\"\"\"\n",
    "con=sqlite3.connect('mydata.sqlite')\n",
    "con.execute(sqlQuery)\n",
    "con.commit()"
   ]
  },
  {
   "cell_type": "code",
   "execution_count": 5,
   "metadata": {},
   "outputs": [],
   "source": [
    "data = [\n",
    "    ('Atlanta', 'Georgia', 1.25, 6),\n",
    "    ('Tallahassee', 'Florida', 2.6, 3),\n",
    "    ('Sacramento', 'California', 1.7, 5)\n",
    "]\n",
    "sqlQuery1 = \"INSERT INTO test VALUES(?, ?, ?, ?)\"\n",
    "con.executemany(sqlQuery1, data)\n",
    "con.commit()"
   ]
  },
  {
   "cell_type": "code",
   "execution_count": null,
   "metadata": {},
   "outputs": [],
   "source": [
    "#讀取資料"
   ]
  }
 ],
 "metadata": {
  "kernelspec": {
   "display_name": "Python 3",
   "language": "python",
   "name": "python3"
  },
  "language_info": {
   "codemirror_mode": {
    "name": "ipython",
    "version": 3
   },
   "file_extension": ".py",
   "mimetype": "text/x-python",
   "name": "python",
   "nbconvert_exporter": "python",
   "pygments_lexer": "ipython3",
   "version": "3.7.4"
  }
 },
 "nbformat": 4,
 "nbformat_minor": 2
}
