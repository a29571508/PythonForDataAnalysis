{
 "cells": [
  {
   "cell_type": "code",
   "execution_count": 20,
   "metadata": {},
   "outputs": [],
   "source": [
    "import pandas as pd\n",
    "import requests\n",
    "url = 'http://api.openweathermap.org/data/2.5/group?id=1668341,1668399,1670481&units=metric&appid=29c4f184354b9889e87f7b494ac86aed'\n",
    "#url='https://www.pchome.com.tw/'"
   ]
  },
  {
   "cell_type": "code",
   "execution_count": 21,
   "metadata": {},
   "outputs": [
    {
     "name": "stdout",
     "output_type": "stream",
     "text": [
      "已取得遠端資料\n"
     ]
    },
    {
     "data": {
      "text/html": [
       "<div>\n",
       "<style scoped>\n",
       "    .dataframe tbody tr th:only-of-type {\n",
       "        vertical-align: middle;\n",
       "    }\n",
       "\n",
       "    .dataframe tbody tr th {\n",
       "        vertical-align: top;\n",
       "    }\n",
       "\n",
       "    .dataframe thead th {\n",
       "        text-align: right;\n",
       "    }\n",
       "</style>\n",
       "<table border=\"1\" class=\"dataframe\">\n",
       "  <thead>\n",
       "    <tr style=\"text-align: right;\">\n",
       "      <th></th>\n",
       "      <th>攝氏</th>\n",
       "      <th>溼度</th>\n",
       "      <th>緯度</th>\n",
       "      <th>經度</th>\n",
       "    </tr>\n",
       "  </thead>\n",
       "  <tbody>\n",
       "    <tr>\n",
       "      <td>Taipei</td>\n",
       "      <td>32.08</td>\n",
       "      <td>63</td>\n",
       "      <td>25.05</td>\n",
       "      <td>121.53</td>\n",
       "    </tr>\n",
       "    <tr>\n",
       "      <td>Taichung</td>\n",
       "      <td>30.48</td>\n",
       "      <td>62</td>\n",
       "      <td>24.15</td>\n",
       "      <td>120.68</td>\n",
       "    </tr>\n",
       "    <tr>\n",
       "      <td>Pingtung</td>\n",
       "      <td>30.00</td>\n",
       "      <td>66</td>\n",
       "      <td>22.67</td>\n",
       "      <td>120.49</td>\n",
       "    </tr>\n",
       "  </tbody>\n",
       "</table>\n",
       "</div>"
      ],
      "text/plain": [
       "             攝氏  溼度     緯度      經度\n",
       "Taipei    32.08  63  25.05  121.53\n",
       "Taichung  30.48  62  24.15  120.68\n",
       "Pingtung  30.00  66  22.67  120.49"
      ]
     },
     "execution_count": 21,
     "metadata": {},
     "output_type": "execute_result"
    }
   ],
   "source": [
    "import json\n",
    "\n",
    "response = requests.get(url)\n",
    "if response.status_code == 200:\n",
    "    print(\"已取得遠端資料\")\n",
    "    #print(response.text)\n",
    "    #struct = json.loads(response.text)\n",
    "    #print(type(struct))\n",
    "    struct = response.json()    \n",
    "else:\n",
    "    print(\"連線失敗\")\n",
    "    \n",
    "\n",
    "weatherDict = {}\n",
    "lon = []\n",
    "lat = []\n",
    "temp = []\n",
    "humidity = []\n",
    "name = []\n",
    "for item in struct['list']:\n",
    "    lon.append(item['coord']['lon'])\n",
    "    lat.append(item['coord']['lat'])\n",
    "    temp.append(item['main']['temp'])\n",
    "    humidity.append(item['main']['humidity'])\n",
    "    name.append(item['name'])\n",
    "weatherDict['城市'] = name\n",
    "weatherDict['緯度'] = lat\n",
    "weatherDict['經度'] = lon\n",
    "weatherDict['攝氏'] = temp\n",
    "weatherDict['溼度'] = humidity\n",
    "\n",
    "weatherDict\n",
    "weatherDataFrame = pd.DataFrame(weatherDict, columns=['攝氏', '溼度','緯度', '經度'], index=weatherDict['城市'])\n",
    "weatherDataFrame\n"
   ]
  },
  {
   "cell_type": "code",
   "execution_count": null,
   "metadata": {},
   "outputs": [],
   "source": []
  }
 ],
 "metadata": {
  "kernelspec": {
   "display_name": "Python 3",
   "language": "python",
   "name": "python3"
  },
  "language_info": {
   "codemirror_mode": {
    "name": "ipython",
    "version": 3
   },
   "file_extension": ".py",
   "mimetype": "text/x-python",
   "name": "python",
   "nbconvert_exporter": "python",
   "pygments_lexer": "ipython3",
   "version": "3.7.4"
  }
 },
 "nbformat": 4,
 "nbformat_minor": 2
}
